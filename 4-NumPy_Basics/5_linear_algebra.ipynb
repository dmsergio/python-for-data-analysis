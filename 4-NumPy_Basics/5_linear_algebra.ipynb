{
 "cells": [
  {
   "cell_type": "markdown",
   "metadata": {},
   "source": [
    "### Linear Algebra"
   ]
  },
  {
   "cell_type": "code",
   "execution_count": 1,
   "metadata": {},
   "outputs": [],
   "source": [
    "import numpy as np"
   ]
  },
  {
   "cell_type": "code",
   "execution_count": 7,
   "metadata": {},
   "outputs": [],
   "source": [
    "x = np.array([[1., 2., 3.], [4., 5., 6.]])\n",
    "y = np.array([[6., 23.], [-1, 7], [8, 9]])"
   ]
  },
  {
   "cell_type": "code",
   "execution_count": 3,
   "metadata": {},
   "outputs": [
    {
     "data": {
      "text/plain": [
       "array([[1., 2., 3.],\n",
       "       [4., 5., 6.]])"
      ]
     },
     "execution_count": 3,
     "metadata": {},
     "output_type": "execute_result"
    }
   ],
   "source": [
    "x"
   ]
  },
  {
   "cell_type": "code",
   "execution_count": 4,
   "metadata": {},
   "outputs": [
    {
     "data": {
      "text/plain": [
       "array([[ 6., 23.],\n",
       "       [-1.,  7.],\n",
       "       [ 8.,  9.]])"
      ]
     },
     "execution_count": 4,
     "metadata": {},
     "output_type": "execute_result"
    }
   ],
   "source": [
    "y"
   ]
  },
  {
   "cell_type": "code",
   "execution_count": 5,
   "metadata": {},
   "outputs": [
    {
     "data": {
      "text/plain": [
       "array([[ 28.,  64.],\n",
       "       [ 67., 181.]])"
      ]
     },
     "execution_count": 5,
     "metadata": {},
     "output_type": "execute_result"
    }
   ],
   "source": [
    "x.dot(y)"
   ]
  },
  {
   "cell_type": "code",
   "execution_count": 6,
   "metadata": {},
   "outputs": [
    {
     "data": {
      "text/plain": [
       "array([[ 28.,  64.],\n",
       "       [ 67., 181.]])"
      ]
     },
     "execution_count": 6,
     "metadata": {},
     "output_type": "execute_result"
    }
   ],
   "source": [
    "np.dot(x, y)"
   ]
  },
  {
   "cell_type": "markdown",
   "metadata": {},
   "source": [
    "**numpy.linalg** tiene un estandar de descomposición de matrices."
   ]
  },
  {
   "cell_type": "code",
   "execution_count": 8,
   "metadata": {},
   "outputs": [],
   "source": [
    "from numpy.linalg import inv, qr"
   ]
  },
  {
   "cell_type": "code",
   "execution_count": 11,
   "metadata": {},
   "outputs": [
    {
     "data": {
      "text/plain": [
       "array([[-0.87473664,  1.26896741, -1.10685208,  0.45860229, -1.4867295 ],\n",
       "       [-0.5105846 , -1.17462454, -0.26259882, -0.72568252, -1.19582404],\n",
       "       [ 1.65255976,  0.83364177, -0.40942771, -2.25108942,  1.78837806],\n",
       "       [ 0.09050498,  0.88566033, -2.19967804,  1.38747318, -1.61089405],\n",
       "       [ 0.61169068, -0.54617997, -0.68051475, -1.34738547, -0.4927357 ]])"
      ]
     },
     "execution_count": 11,
     "metadata": {},
     "output_type": "execute_result"
    }
   ],
   "source": [
    "X = np.random.randn(5, 5)\n",
    "X"
   ]
  },
  {
   "cell_type": "code",
   "execution_count": 12,
   "metadata": {},
   "outputs": [
    {
     "data": {
      "text/plain": [
       "array([[ 4.13917121,  0.61343922, -0.18966711, -4.4493036 ,  4.41927196],\n",
       "       [ 0.61343922,  4.76768648, -3.01390429,  1.5224986 , -0.14868294],\n",
       "       [-0.18966711, -3.01390429,  6.76339451, -1.53046174,  5.10616225],\n",
       "       [-4.4493036 ,  1.5224986 , -1.53046174,  9.54486418, -5.41099525],\n",
       "       [ 4.41927196, -0.14868294,  5.10616225, -5.41099525,  9.67642393]])"
      ]
     },
     "execution_count": 12,
     "metadata": {},
     "output_type": "execute_result"
    }
   ],
   "source": [
    "mat = X.T.dot(X)\n",
    "mat"
   ]
  },
  {
   "cell_type": "code",
   "execution_count": 13,
   "metadata": {},
   "outputs": [
    {
     "data": {
      "text/plain": [
       "array([[ 15.40640437,   6.16738117,  13.83402046,   0.50155213,\n",
       "        -13.96104225],\n",
       "       [  6.16738117,   3.05528258,   6.03610661,  -0.02993803,\n",
       "         -5.97166897],\n",
       "       [ 13.83402046,   6.03610661,  13.10851185,   0.20087491,\n",
       "        -13.03023603],\n",
       "       [  0.50155213,  -0.02993803,   0.20087491,   0.27136778,\n",
       "         -0.18377416],\n",
       "       [-13.96104225,  -5.97166897, -13.03023603,  -0.18377416,\n",
       "         13.16083879]])"
      ]
     },
     "execution_count": 13,
     "metadata": {},
     "output_type": "execute_result"
    }
   ],
   "source": [
    "inv(mat)"
   ]
  },
  {
   "cell_type": "code",
   "execution_count": 14,
   "metadata": {},
   "outputs": [
    {
     "data": {
      "text/plain": [
       "array([[ 1.00000000e+00,  0.00000000e+00,  0.00000000e+00,\n",
       "         1.11022302e-16,  0.00000000e+00],\n",
       "       [ 4.44089210e-16,  1.00000000e+00,  3.55271368e-15,\n",
       "         2.08166817e-17,  4.21884749e-15],\n",
       "       [ 0.00000000e+00,  0.00000000e+00,  1.00000000e+00,\n",
       "         1.11022302e-16, -1.42108547e-14],\n",
       "       [ 0.00000000e+00,  0.00000000e+00,  1.42108547e-14,\n",
       "         1.00000000e+00,  0.00000000e+00],\n",
       "       [ 0.00000000e+00,  7.10542736e-15,  0.00000000e+00,\n",
       "         0.00000000e+00,  1.00000000e+00]])"
      ]
     },
     "execution_count": 14,
     "metadata": {},
     "output_type": "execute_result"
    }
   ],
   "source": [
    "mat.dot(inv(mat))"
   ]
  },
  {
   "cell_type": "code",
   "execution_count": 15,
   "metadata": {},
   "outputs": [],
   "source": [
    "q, r = qr(mat)"
   ]
  },
  {
   "cell_type": "code",
   "execution_count": 16,
   "metadata": {},
   "outputs": [
    {
     "data": {
      "text/plain": [
       "array([[-0.54886668, -0.12173877,  0.22613846, -0.54127995, -0.58292577],\n",
       "       [-0.0813439 , -0.81430778, -0.33646377,  0.39358345, -0.24933953],\n",
       "       [ 0.02515043,  0.51393878, -0.63835784,  0.17813238, -0.54406113],\n",
       "       [ 0.58999117, -0.24062942, -0.35484935, -0.68412788, -0.00767326],\n",
       "       [-0.58600889,  0.00684952, -0.54975881, -0.22879243,  0.54951428]])"
      ]
     },
     "execution_count": 16,
     "metadata": {},
     "output_type": "execute_result"
    }
   ],
   "source": [
    "q"
   ]
  },
  {
   "cell_type": "code",
   "execution_count": 17,
   "metadata": {},
   "outputs": [
    {
     "data": {
      "text/plain": [
       "array([[ -7.54130538,   0.18507068,  -3.37584836,  11.08201363,\n",
       "        -11.1479843 ],\n",
       "       [  0.        ,  -5.8733822 ,   6.3565552 ,  -3.81853117,\n",
       "          3.57565527],\n",
       "       [  0.        ,   0.        ,  -5.61036165,  -0.95368854,\n",
       "         -5.60977608],\n",
       "       [  0.        ,   0.        ,   0.        ,  -2.55698872,\n",
       "         -0.05308939],\n",
       "       [  0.        ,   0.        ,   0.        ,   0.        ,\n",
       "          0.04175374]])"
      ]
     },
     "execution_count": 17,
     "metadata": {},
     "output_type": "execute_result"
    }
   ],
   "source": [
    "r"
   ]
  },
  {
   "cell_type": "code",
   "execution_count": null,
   "metadata": {},
   "outputs": [],
   "source": []
  }
 ],
 "metadata": {
  "kernelspec": {
   "display_name": "Python 3",
   "language": "python",
   "name": "python3"
  },
  "language_info": {
   "codemirror_mode": {
    "name": "ipython",
    "version": 3
   },
   "file_extension": ".py",
   "mimetype": "text/x-python",
   "name": "python",
   "nbconvert_exporter": "python",
   "pygments_lexer": "ipython3",
   "version": "3.7.6"
  }
 },
 "nbformat": 4,
 "nbformat_minor": 4
}
